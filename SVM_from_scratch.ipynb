{
 "cells": [
  {
   "cell_type": "code",
   "execution_count": 10,
   "metadata": {},
   "outputs": [],
   "source": [
    "import numpy as np\n",
    "import matplotlib.pyplot as plt\n",
    "import pandas as pd\n",
    "import sympy as sp\n",
    "from sklearn import svm\n",
    "\n",
    "from sklearn.metrics import confusion_matrix\n",
    "from sklearn.metrics import accuracy_score, precision_score, recall_score, f1_score\n",
    "from sklearn.metrics import classification_report"
   ]
  },
  {
   "cell_type": "code",
   "execution_count": 11,
   "metadata": {},
   "outputs": [
    {
     "name": "stdout",
     "output_type": "stream",
     "text": [
      "(1461, 5)\n",
      "[-1  1]\n"
     ]
    }
   ],
   "source": [
    "# Importing the dataset\n",
    "dataset = pd.read_csv('D:\\SEM3\\PYTHON\\Pml files\\seattle-weather.csv')\n",
    "\n",
    "# if its rain 1 else -1\n",
    "dataset['weather'] = dataset['weather'].apply(lambda x: 1 if x == 'rain' else -1)\n",
    "dataset.drop(['date'], axis=1, inplace=True)\n",
    "print(dataset.shape)\n",
    "dataset.head()\n",
    "print(np.unique(dataset['weather']))"
   ]
  },
  {
   "attachments": {},
   "cell_type": "markdown",
   "metadata": {},
   "source": [
    "$\n",
    "\\underset{\\omega \\gamma \\xi }{min}(\\frac{1}{2}{\\omega }^{T}\\omega +c\\sum _{i=0}^{n}{\\xi }_{i})\n",
    "$\n",
    "\n",
    "$\n",
    "{d}_{i}[{\\omega }^{T}{x}_{i}-\\gamma ]+{\\xi }_{i}\\ge 1\n",
    "$"
   ]
  },
  {
   "cell_type": "code",
   "execution_count": 6,
   "metadata": {},
   "outputs": [
    {
     "name": "stdout",
     "output_type": "stream",
     "text": [
      "[-1.  1.]\n"
     ]
    }
   ],
   "source": [
    "x_i = dataset.iloc[:, 0:4].values # these are the features\n",
    "d_i = dataset.iloc[:, 4].values # these are the labels\n",
    "d_i = d_i.astype(np.float64) # converting to float64\n",
    "print(np.unique(d_i))"
   ]
  },
  {
   "cell_type": "code",
   "execution_count": 7,
   "metadata": {},
   "outputs": [
    {
     "name": "stdout",
     "output_type": "stream",
     "text": [
      "The optimal omega is\n",
      "[ 8.69565841e-01  1.07594277e-07 -8.79511035e-08 -1.68444917e-07]\n",
      "A dual variable is\n",
      "0.4456947245378142\n",
      "The status of the problem is optimal\n"
     ]
    }
   ],
   "source": [
    "import cvxpy as cp\n",
    "import numpy as np\n",
    "\n",
    "c = 0.6\n",
    "\n",
    "# Define the optimization variables\n",
    "omega = cp.Variable((x_i.shape[1]))\n",
    "gamma = cp.Variable()\n",
    "xi = cp.Variable((x_i.shape[0]))\n",
    "\n",
    "# Define the objective function\n",
    "obj = cp.Minimize(0.5 * cp.sum_squares(omega) + c * cp.sum(xi))\n",
    "\n",
    "# Define the constraints\n",
    "constraints = [d_i[i] * (omega.T @ x_i[i, :] - gamma) + xi[i] >= 1 for i in range(x_i.shape[0])]\n",
    "constraints += [xi >= 0]\n",
    "\n",
    "# Define the problem and solve it\n",
    "prob = cp.Problem(obj, constraints)\n",
    "prob.solve()\n",
    "\n",
    "# Print the optimal x\n",
    "print(\"The optimal omega is\")\n",
    "print(omega.value)\n",
    "\n",
    "# Print the optimal dual variable for a constraint\n",
    "print(\"A dual variable is\")\n",
    "print(constraints[0].dual_value)\n",
    "\n",
    "# Print the status of the problem\n",
    "print(\"The status of the problem is\", prob.status)\n"
   ]
  },
  {
   "cell_type": "code",
   "execution_count": null,
   "metadata": {},
   "outputs": [
    {
     "name": "stdout",
     "output_type": "stream",
     "text": [
      "[-1.  1. -1. ... -1. -1. -1.]\n",
      "Accuracy: 0.8583162217659137\n",
      "Confusion Matrix: [[797  23]\n",
      " [184 457]]\n",
      "Precision: 0.9520833333333333\n",
      "Recall: 0.7129485179407177\n",
      "F1 Score: 0.8153434433541481\n"
     ]
    }
   ],
   "source": [
    "# find the prediction using the sign function\n",
    "y_pred = np.sign(x_i @ omega.value - gamma.value)\n",
    "print(y_pred)\n",
    "\n",
    "# find the accuracy\n",
    "print(\"Accuracy:\", accuracy_score(d_i, y_pred))\n",
    "\n",
    "# find the confusion matrix\n",
    "print(\"Confusion Matrix:\", confusion_matrix(d_i, y_pred))\n",
    "\n",
    "# find the precision\n",
    "print(\"Precision:\", precision_score(d_i, y_pred))\n",
    "\n",
    "# find the recall\n",
    "print(\"Recall:\", recall_score(d_i, y_pred))\n",
    "\n",
    "# find the f1 score\n",
    "print(\"F1 Score:\", f1_score(d_i, y_pred))\n"
   ]
  },
  {
   "cell_type": "code",
   "execution_count": 9,
   "metadata": {},
   "outputs": [
    {
     "name": "stdout",
     "output_type": "stream",
     "text": [
      "Accuracy: 0.8583162217659137\n"
     ]
    }
   ],
   "source": [
    "from sklearn import svm\n",
    "\n",
    "# Create a svm Classifier\n",
    "clf = svm.SVC(kernel='linear') # Linear Kernel\n",
    "\n",
    "# Train the model using the training sets\n",
    "clf.fit(x_i, d_i)\n",
    "\n",
    "# Predict the response for test dataset\n",
    "y_pred = clf.predict(x_i)\n",
    "\n",
    "# Model Accuracy: how often is the classifier correct?\n",
    "print(\"Accuracy:\",accuracy_score(d_i, y_pred))\n",
    "\n",
    "\n"
   ]
  }
 ],
 "metadata": {
  "kernelspec": {
   "display_name": "Python 3",
   "language": "python",
   "name": "python3"
  },
  "language_info": {
   "codemirror_mode": {
    "name": "ipython",
    "version": 3
   },
   "file_extension": ".py",
   "mimetype": "text/x-python",
   "name": "python",
   "nbconvert_exporter": "python",
   "pygments_lexer": "ipython3",
   "version": "3.10.9 (tags/v3.10.9:1dd9be6, Dec  6 2022, 20:01:21) [MSC v.1934 64 bit (AMD64)]"
  },
  "orig_nbformat": 4,
  "vscode": {
   "interpreter": {
    "hash": "78a98a92ac161e0876e9c52ae5add56d2908d144847c2477e626a69f326ae83f"
   }
  }
 },
 "nbformat": 4,
 "nbformat_minor": 2
}
